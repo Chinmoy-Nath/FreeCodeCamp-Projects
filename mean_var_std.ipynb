{
 "cells": [
  {
   "cell_type": "code",
   "execution_count": 1,
   "metadata": {},
   "outputs": [],
   "source": [
    "import numpy as np"
   ]
  },
  {
   "cell_type": "code",
   "execution_count": 2,
   "metadata": {},
   "outputs": [],
   "source": [
    "arr = np.random.randint(1,9,9)"
   ]
  },
  {
   "cell_type": "code",
   "execution_count": 3,
   "metadata": {},
   "outputs": [
    {
     "data": {
      "text/plain": [
       "array([6, 6, 2, 2, 6, 4, 1, 3, 5])"
      ]
     },
     "execution_count": 3,
     "metadata": {},
     "output_type": "execute_result"
    }
   ],
   "source": [
    "arr"
   ]
  },
  {
   "cell_type": "code",
   "execution_count": 4,
   "metadata": {},
   "outputs": [],
   "source": [
    "def Calculate(arr):\n",
    "    ar = np.array(arr)\n",
    "    ar[np.isnan(ar)] = ar.mean()\n",
    "    matrix = ar.reshape(3,3)\n",
    "    res = {}\n",
    "    res['mean'] = [matrix.mean(axis=0).tolist(), matrix.mean(axis=1).tolist(), matrix.mean()]\n",
    "    res['variance'] = [matrix.var(axis=0).tolist(), matrix.var(axis=1).tolist(), matrix.var()]\n",
    "    res['standard deviation'] = [matrix.std(axis=0).tolist(), matrix.std(axis=1).tolist(), matrix.std()]\n",
    "    res['max'] = [matrix.max(axis=0).tolist(), matrix.max(axis=1).tolist(), matrix.max()]\n",
    "    res['min'] = [matrix.min(axis=0).tolist(), matrix.min(axis=1).tolist(), matrix.min()]\n",
    "    res['sum'] = [matrix.sum(axis=0).tolist(), matrix.sum(axis=1).tolist(), matrix.sum()]\n",
    "\n",
    "    \n",
    "    for key, values in res.items():\n",
    "        print(key, \" : \", values)"
   ]
  },
  {
   "cell_type": "code",
   "execution_count": 5,
   "metadata": {},
   "outputs": [
    {
     "name": "stdout",
     "output_type": "stream",
     "text": [
      "mean  :  [[3.0, 5.0, 3.6666666666666665], [4.666666666666667, 4.0, 3.0], 3.888888888888889]\n",
      "variance  :  [[4.666666666666667, 2.0, 1.5555555555555554], [3.5555555555555554, 2.6666666666666665, 2.6666666666666665], 3.4320987654320994]\n",
      "standard deviation  :  [[2.160246899469287, 1.4142135623730951, 1.247219128924647], [1.8856180831641267, 1.632993161855452, 1.632993161855452], 1.8525924445036743]\n",
      "max  :  [[6, 6, 5], [6, 6, 5], 6]\n",
      "min  :  [[1, 3, 2], [2, 2, 1], 1]\n",
      "sum  :  [[9, 15, 11], [14, 12, 9], 35]\n"
     ]
    }
   ],
   "source": [
    "Calculate(arr)"
   ]
  }
 ],
 "metadata": {
  "kernelspec": {
   "display_name": "Python 3",
   "language": "python",
   "name": "python3"
  },
  "language_info": {
   "codemirror_mode": {
    "name": "ipython",
    "version": 3
   },
   "file_extension": ".py",
   "mimetype": "text/x-python",
   "name": "python",
   "nbconvert_exporter": "python",
   "pygments_lexer": "ipython3",
   "version": "3.12.4"
  }
 },
 "nbformat": 4,
 "nbformat_minor": 2
}
